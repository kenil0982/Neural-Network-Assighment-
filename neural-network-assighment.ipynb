{
 "cells": [
  {
   "cell_type": "code",
   "execution_count": null,
   "metadata": {
    "_cell_guid": "b1076dfc-b9ad-4769-8c92-a6c4dae69d19",
    "_uuid": "8f2839f25d086af736a60e9eeb907d3b93b6e0e5",
    "trusted": true
   },
   "outputs": [],
   "source": [
    "# This Python 3 environment comes with many helpful analytics libraries installed\n",
    "# It is defined by the kaggle/python Docker image: https://github.com/kaggle/docker-python\n",
    "# For example, here's several helpful packages to load\n",
    "\n",
    "import numpy as np # linear algebra\n",
    "import pandas as pd # data processing, CSV file I/O (e.g. pd.read_csv)\n",
    "\n",
    "# Input data files are available in the read-only \"../input/\" directory\n",
    "# For example, running this (by clicking run or pressing Shift+Enter) will list all files under the input directory\n",
    "\n",
    "import os\n",
    "for dirname, _, filenames in os.walk('/kaggle/input'):\n",
    "    for filename in filenames:\n",
    "        print(os.path.join(dirname, filename))\n",
    "\n",
    "# You can write up to 20GB to the current directory (/kaggle/working/) that gets preserved as output when you create a version using \"Save & Run All\" \n",
    "# You can also write temporary files to /kaggle/temp/, but they won't be saved outside of the current session"
   ]
  },
  {
   "cell_type": "code",
   "execution_count": 1,
   "metadata": {
    "execution": {
     "iopub.execute_input": "2025-06-08T03:36:58.820341Z",
     "iopub.status.busy": "2025-06-08T03:36:58.820132Z",
     "iopub.status.idle": "2025-06-08T03:36:58.830767Z",
     "shell.execute_reply": "2025-06-08T03:36:58.829791Z",
     "shell.execute_reply.started": "2025-06-08T03:36:58.820321Z"
    },
    "trusted": true
   },
   "outputs": [],
   "source": [
    "import numpy as np\n",
    "import matplotlib.pyplot as plt\n"
   ]
  },
  {
   "cell_type": "code",
   "execution_count": 3,
   "metadata": {
    "execution": {
     "iopub.execute_input": "2025-06-08T03:37:15.070754Z",
     "iopub.status.busy": "2025-06-08T03:37:15.070260Z",
     "iopub.status.idle": "2025-06-08T03:37:15.081221Z",
     "shell.execute_reply": "2025-06-08T03:37:15.080181Z",
     "shell.execute_reply.started": "2025-06-08T03:37:15.070718Z"
    },
    "trusted": true
   },
   "outputs": [],
   "source": [
    "A = np.array([\n",
    "    [0,1,1,1,0],\n",
    "    [1,0,0,0,1],\n",
    "    [1,1,1,1,1],\n",
    "    [1,0,0,0,1],\n",
    "    [1,0,0,0,1],\n",
    "    [1,0,0,0,1]\n",
    "])\n",
    "\n",
    "B = np.array([\n",
    "    [1,1,1,1,0],\n",
    "    [1,0,0,0,1],\n",
    "    [1,1,1,1,0],\n",
    "    [1,0,0,0,1],\n",
    "    [1,0,0,0,1],\n",
    "    [1,1,1,1,0]\n",
    "])\n",
    "\n",
    "C = np.array([\n",
    "    [0,1,1,1,1],\n",
    "    [1,0,0,0,0],\n",
    "    [1,0,0,0,0],\n",
    "    [1,0,0,0,0],\n",
    "    [1,0,0,0,0],\n",
    "    [0,1,1,1,1]\n",
    "])\n",
    "\n",
    "X = np.array([A.flatten(), B.flatten(), C.flatten()])\n",
    "y = np.array([[1, 0, 0],   # A\n",
    "              [0, 1, 0],   # B\n",
    "              [0, 0, 1]])  # C\n"
   ]
  },
  {
   "cell_type": "code",
   "execution_count": 4,
   "metadata": {
    "execution": {
     "iopub.execute_input": "2025-06-08T03:37:25.771835Z",
     "iopub.status.busy": "2025-06-08T03:37:25.770838Z",
     "iopub.status.idle": "2025-06-08T03:37:25.775998Z",
     "shell.execute_reply": "2025-06-08T03:37:25.775104Z",
     "shell.execute_reply.started": "2025-06-08T03:37:25.771801Z"
    },
    "trusted": true
   },
   "outputs": [],
   "source": [
    "def sigmoid(x):\n",
    "    return 1 / (1 + np.exp(-x))\n",
    "\n",
    "def sigmoid_derivative(x):\n",
    "    return x * (1 - x)\n"
   ]
  },
  {
   "cell_type": "code",
   "execution_count": 5,
   "metadata": {
    "execution": {
     "iopub.execute_input": "2025-06-08T03:37:35.982371Z",
     "iopub.status.busy": "2025-06-08T03:37:35.981438Z",
     "iopub.status.idle": "2025-06-08T03:37:35.987975Z",
     "shell.execute_reply": "2025-06-08T03:37:35.987027Z",
     "shell.execute_reply.started": "2025-06-08T03:37:35.982334Z"
    },
    "trusted": true
   },
   "outputs": [],
   "source": [
    "np.random.seed(42)\n",
    "input_size = 30\n",
    "hidden_size = 10\n",
    "output_size = 3\n",
    "lr = 0.5\n",
    "epochs = 1000\n",
    "\n",
    "W1 = np.random.randn(input_size, hidden_size)\n",
    "b1 = np.zeros((1, hidden_size))\n",
    "W2 = np.random.randn(hidden_size, output_size)\n",
    "b2 = np.zeros((1, output_size))\n",
    "\n",
    "losses = []\n",
    "accuracies = []\n"
   ]
  },
  {
   "cell_type": "code",
   "execution_count": 6,
   "metadata": {
    "execution": {
     "iopub.execute_input": "2025-06-08T03:37:54.356861Z",
     "iopub.status.busy": "2025-06-08T03:37:54.356583Z",
     "iopub.status.idle": "2025-06-08T03:37:54.482545Z",
     "shell.execute_reply": "2025-06-08T03:37:54.481648Z",
     "shell.execute_reply.started": "2025-06-08T03:37:54.356842Z"
    },
    "trusted": true
   },
   "outputs": [
    {
     "name": "stdout",
     "output_type": "stream",
     "text": [
      "Epoch 0 — Loss: 0.4303 — Accuracy: 0.33\n",
      "Epoch 100 — Loss: 0.0101 — Accuracy: 1.00\n",
      "Epoch 200 — Loss: 0.0037 — Accuracy: 1.00\n",
      "Epoch 300 — Loss: 0.0022 — Accuracy: 1.00\n",
      "Epoch 400 — Loss: 0.0015 — Accuracy: 1.00\n",
      "Epoch 500 — Loss: 0.0011 — Accuracy: 1.00\n",
      "Epoch 600 — Loss: 0.0009 — Accuracy: 1.00\n",
      "Epoch 700 — Loss: 0.0007 — Accuracy: 1.00\n",
      "Epoch 800 — Loss: 0.0006 — Accuracy: 1.00\n",
      "Epoch 900 — Loss: 0.0006 — Accuracy: 1.00\n"
     ]
    }
   ],
   "source": [
    "for epoch in range(epochs):\n",
    "    # Forward Pass\n",
    "    z1 = np.dot(X, W1) + b1\n",
    "    a1 = sigmoid(z1)\n",
    "    z2 = np.dot(a1, W2) + b2\n",
    "    a2 = sigmoid(z2)\n",
    "\n",
    "    # Loss (Mean Squared Error)\n",
    "    loss = np.mean((y - a2) ** 2)\n",
    "    losses.append(loss)\n",
    "\n",
    "    # Accuracy\n",
    "    predictions = np.argmax(a2, axis=1)\n",
    "    labels = np.argmax(y, axis=1)\n",
    "    acc = np.mean(predictions == labels)\n",
    "    accuracies.append(acc)\n",
    "\n",
    "    # Backpropagation\n",
    "    error_output = a2 - y\n",
    "    delta_output = error_output * sigmoid_derivative(a2)\n",
    "\n",
    "    error_hidden = delta_output.dot(W2.T)\n",
    "    delta_hidden = error_hidden * sigmoid_derivative(a1)\n",
    "\n",
    "    # Weight Updates\n",
    "    W2 -= lr * a1.T.dot(delta_output)\n",
    "    b2 -= lr * np.sum(delta_output, axis=0, keepdims=True)\n",
    "    W1 -= lr * X.T.dot(delta_hidden)\n",
    "    b1 -= lr * np.sum(delta_hidden, axis=0, keepdims=True)\n",
    "\n",
    "    if epoch % 100 == 0:\n",
    "        print(f\"Epoch {epoch} — Loss: {loss:.4f} — Accuracy: {acc:.2f}\")\n"
   ]
  },
  {
   "cell_type": "code",
   "execution_count": 7,
   "metadata": {
    "execution": {
     "iopub.execute_input": "2025-06-08T03:38:05.748708Z",
     "iopub.status.busy": "2025-06-08T03:38:05.748305Z",
     "iopub.status.idle": "2025-06-08T03:38:06.108678Z",
     "shell.execute_reply": "2025-06-08T03:38:06.107855Z",
     "shell.execute_reply.started": "2025-06-08T03:38:05.748680Z"
    },
    "trusted": true
   },
   "outputs": [
    {
     "data": {
      "image/png": "[encoded data removed]",
      "text/plain": [
       "<Figure size 1200x500 with 2 Axes>"
      ]
     },
     "metadata": {},
     "output_type": "display_data"
    }
   ],
   "source": [
    "plt.figure(figsize=(12, 5))\n",
    "plt.subplot(1, 2, 1)\n",
    "plt.plot(losses)\n",
    "plt.title(\"Loss over Epochs\")\n",
    "\n",
    "plt.subplot(1, 2, 2)\n",
    "plt.plot(accuracies)\n",
    "plt.title(\"Accuracy over Epochs\")\n",
    "plt.show()\n"
   ]
  },
  {
   "cell_type": "code",
   "execution_count": 3,
   "metadata": {
    "execution": {
     "iopub.execute_input": "2025-06-08T07:46:12.694507Z",
     "iopub.status.busy": "2025-06-08T07:46:12.694084Z",
     "iopub.status.idle": "2025-06-08T07:46:13.099733Z",
     "shell.execute_reply": "2025-06-08T07:46:13.098189Z",
     "shell.execute_reply.started": "2025-06-08T07:46:12.694478Z"
    },
    "trusted": true
   },
   "outputs": [
    {
     "name": "stdout",
     "output_type": "stream",
     "text": [
      "Image 1 is of letter: A\n"
     ]
    },
    {
     "data": {
      "image/png": "[encoded data removed]",
      "text/plain": [
       "<Figure size 640x480 with 1 Axes>"
      ]
     },
     "metadata": {},
     "output_type": "display_data"
    },
    {
     "name": "stdout",
     "output_type": "stream",
     "text": [
      "Image 2 is of letter: B\n"
     ]
    },
    {
     "data": {
      "image/png": "[encoded data removed]",
      "text/plain": [
       "<Figure size 640x480 with 1 Axes>"
      ]
     },
     "metadata": {},
     "output_type": "display_data"
    },
    {
     "name": "stdout",
     "output_type": "stream",
     "text": [
      "Image 3 is of letter: C\n"
     ]
    },
    {
     "data": {
      "image/png": "[encoded data removed]",
      "text/plain": [
       "<Figure size 640x480 with 1 Axes>"
      ]
     },
     "metadata": {},
     "output_type": "display_data"
    }
   ],
   "source": [
    "import numpy as np\n",
    "import matplotlib.pyplot as plt\n",
    "\n",
    "# ----------------------------\n",
    "# 1. Define new 5x6 letter matrices\n",
    "# ----------------------------\n",
    "A = np.array([\n",
    "    [0, 1, 1, 1, 1, 0],\n",
    "    [1, 0, 1, 1, 0, 1],\n",
    "    [1, 1, 1, 1, 1, 1],\n",
    "    [1, 0, 0, 0, 0, 1],\n",
    "    [1, 0, 0, 0, 0, 1]\n",
    "])\n",
    "\n",
    "B = np.array([\n",
    "    [1, 1, 1, 1, 1, 0],\n",
    "    [1, 0, 1, 1, 0, 1],\n",
    "    [1, 1, 1, 1, 1, 0],\n",
    "    [1, 0, 1, 1, 0, 1],\n",
    "    [1, 1, 1, 1, 1, 0]\n",
    "])\n",
    "\n",
    "C = np.array([\n",
    "    [0, 1, 1, 1, 1, 1],\n",
    "    [1, 0, 0, 0, 0, 0],\n",
    "    [1, 0, 0, 0, 0, 0],\n",
    "    [1, 0, 0, 0, 0, 0],\n",
    "    [0, 1, 1, 1, 1, 1]\n",
    "])\n",
    "\n",
    "# ----------------------------\n",
    "# 2. Prepare data\n",
    "# ----------------------------\n",
    "X = np.array([A.flatten(), B.flatten(), C.flatten()])\n",
    "y = np.array([\n",
    "    [1, 0, 0],  # A\n",
    "    [0, 1, 0],  # B\n",
    "    [0, 0, 1]   # C\n",
    "])\n",
    "\n",
    "# ----------------------------\n",
    "# 3. Define activation functions\n",
    "# ----------------------------\n",
    "def sigmoid(x):\n",
    "    return 1 / (1 + np.exp(-x))\n",
    "def sigmoid_derivative(x):\n",
    "    return x * (1 - x)\n",
    "\n",
    "# ----------------------------\n",
    "# 4. Initialize network\n",
    "# ----------------------------\n",
    "np.random.seed(42)\n",
    "input_size = 30  # 5x6 = 30\n",
    "hidden_size = 10\n",
    "output_size = 3\n",
    "lr = 0.5\n",
    "epochs = 1000\n",
    "\n",
    "W1 = np.random.randn(input_size, hidden_size)\n",
    "b1 = np.zeros((1, hidden_size))\n",
    "W2 = np.random.randn(hidden_size, output_size)\n",
    "b2 = np.zeros((1, output_size))\n",
    "\n",
    "# ----------------------------\n",
    "# 5. Train network\n",
    "# ----------------------------\n",
    "for epoch in range(epochs):\n",
    "    z1 = X @ W1 + b1\n",
    "    a1 = sigmoid(z1)\n",
    "    z2 = a1 @ W2 + b2\n",
    "    a2 = sigmoid(z2)\n",
    "\n",
    "    loss = np.mean((y - a2) ** 2)\n",
    "\n",
    "    delta2 = (a2 - y) * sigmoid_derivative(a2)\n",
    "    delta1 = delta2 @ W2.T * sigmoid_derivative(a1)\n",
    "\n",
    "    W2 -= lr * a1.T @ delta2\n",
    "    b2 -= lr * np.sum(delta2, axis=0)\n",
    "    W1 -= lr * X.T @ delta1\n",
    "    b1 -= lr * np.sum(delta1, axis=0)\n",
    "\n",
    "# ----------------------------\n",
    "# 6. Predict and visualize\n",
    "# ----------------------------\n",
    "letters = ['A', 'B', 'C']\n",
    "test_letters = [A, B, C]\n",
    "\n",
    "for i, test in enumerate(test_letters):\n",
    "    test_img = test.flatten().reshape(1, -1)\n",
    "    z1 = test_img @ W1 + b1\n",
    "    a1 = sigmoid(z1)\n",
    "    z2 = a1 @ W2 + b2\n",
    "    a2 = sigmoid(z2)\n",
    "    pred = np.argmax(a2)\n",
    "\n",
    "    print(f\"Image {i+1} is of letter: {letters[pred]}\")\n",
    "    plt.imshow(test, cmap='plasma')\n",
    "    plt.title(f\"Image is of letter: {letters[pred]}\")\n",
    "    plt.axis('off')\n",
    "    plt.show()\n"
   ]
  }
 ],
 "metadata": {
  "kaggle": {
   "accelerator": "none",
   "dataSources": [],
   "dockerImageVersionId": 31040,
   "isGpuEnabled": false,
   "isInternetEnabled": false,
   "language": "python",
   "sourceType": "notebook"
  },
  "kernelspec": {
   "display_name": "Python 3",
   "language": "python",
   "name": "python3"
  },
  "language_info": {
   "codemirror_mode": {
    "name": "ipython",
    "version": 3
   },
   "file_extension": ".py",
   "mimetype": "text/x-python",
   "name": "python",
   "nbconvert_exporter": "python",
   "pygments_lexer": "ipython3",
   "version": "3.11.11"
  }
 },
 "nbformat": 4,
 "nbformat_minor": 4
}
